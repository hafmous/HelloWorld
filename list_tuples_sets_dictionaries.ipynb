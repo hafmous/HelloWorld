{
  "nbformat": 4,
  "nbformat_minor": 0,
  "metadata": {
    "colab": {
      "name": "list_tuples_sets_dictionaries.ipynb",
      "provenance": [],
      "collapsed_sections": [],
      "toc_visible": true,
      "include_colab_link": true
    },
    "kernelspec": {
      "name": "python3",
      "display_name": "Python 3"
    }
  },
  "cells": [
    {
      "cell_type": "markdown",
      "metadata": {
        "id": "view-in-github",
        "colab_type": "text"
      },
      "source": [
        "<a href=\"https://colab.research.google.com/github/hafmous/HelloWorld/blob/master/list_tuples_sets_dictionaries.ipynb\" target=\"_parent\"><img src=\"https://colab.research.google.com/assets/colab-badge.svg\" alt=\"Open In Colab\"/></a>"
      ]
    },
    {
      "cell_type": "markdown",
      "metadata": {
        "id": "CHxXDyzjbug9",
        "colab_type": "text"
      },
      "source": [
        "![osu logo](https://github.com/chaitanya2334/jupyter-tutorial/blob/master/images/osu-32px-horiz.png?raw=1)\n",
        "\n",
        "\n",
        "---\n",
        "\n",
        "\n",
        "# Practice Material for Lists, Tuples, Sets, Dictionaries\n",
        "\n",
        "<br/><br/>\n",
        "This is a really practice material to help you learn how to use Lists, Tuples, Sets and Dictionaries in python.\n",
        "        \n",
        "> ### _Objective of this tutorial:_\n",
        "> * _Practice manipulating Lists, Sets, Tuples and Dictionaries._\n",
        "\n",
        "_Stuck at any point? Look up the following resource **[NEED FIXING Lists, Tuples, Sets, Dictionaries**]()._"
      ]
    },
    {
      "cell_type": "markdown",
      "metadata": {
        "id": "OXllKSRRdABk",
        "colab_type": "text"
      },
      "source": [
        "# Lists\n",
        "\n",
        "The most basic data structure in Python is the sequence. Each element of a sequence is assigned a number - its position or index. The first index is zero, the second index is one, and so forth.\n",
        "\n",
        "The list is a most versatile datatype available in Python which can be written as a list of comma-separated values (items) between square brackets.\n"
      ]
    },
    {
      "cell_type": "code",
      "metadata": {
        "id": "uakAmIqPc11S",
        "colab_type": "code",
        "colab": {}
      },
      "source": [
        "list1 = ['physics', 'chemistry', 1997, 2000]\n",
        "list2 = [1, 2, 3, 4, 5 ]\n",
        "list3 = [\"a\", \"b\", \"c\", \"d\"]"
      ],
      "execution_count": null,
      "outputs": []
    },
    {
      "cell_type": "markdown",
      "metadata": {
        "id": "26Izx8sIdfDF",
        "colab_type": "text"
      },
      "source": [
        "## Problem 1 (easy): \n",
        "\n",
        "Given a list of elements below: `nums`, find the sum of all of its elements.\n",
        "\n",
        "**Input:**\n",
        "\n",
        "```\n",
        "nums = [1, 19, 23, 41, 3, 8, 81, 27, 10, 743, 821, 3, 5]\n",
        "```\n",
        "\n",
        "**Expected Output:**\n",
        "\n",
        "```\n",
        "1785\n",
        "```\n",
        "\n",
        "**Solution:**"
      ]
    },
    {
      "cell_type": "code",
      "metadata": {
        "id": "u9B-fNYge5C1",
        "colab_type": "code",
        "colab": {
          "base_uri": "https://localhost:8080/",
          "height": 34
        },
        "outputId": "88915755-e7be-4772-ffe0-9d741ed8e2c2"
      },
      "source": [
        "nums = [1, 19, 23, 41, 3, 8, 81, 27, 10, 743, 821, 3, 5]\n",
        "def find_sum(nums):\n",
        "  sum = 0\n",
        "  for n in nums:\n",
        "    # code here\n",
        "    sum += n\n",
        "  return sum\n",
        "\n",
        "print(find_sum(nums))\n"
      ],
      "execution_count": 7,
      "outputs": [
        {
          "output_type": "stream",
          "text": [
            "1785\n"
          ],
          "name": "stdout"
        }
      ]
    },
    {
      "cell_type": "markdown",
      "metadata": {
        "id": "X5onHx0ak7Gg",
        "colab_type": "text"
      },
      "source": [
        "\n",
        "\n",
        "---\n",
        "\n"
      ]
    },
    {
      "cell_type": "markdown",
      "metadata": {
        "id": "eB_R5gh4e7nj",
        "colab_type": "text"
      },
      "source": [
        "## Problem 2 (easy):\n",
        "\n",
        "Find the smallest number in the list. \n",
        "\n",
        "**Input:**\n",
        "\n",
        "```\n",
        "nums = [42, 19, 23, 41, 3, 8, 81, 27, 2, 743, 821, 3, 5]\n",
        "```\n",
        "\n",
        "**Expected Outputs:**\n",
        "\n",
        "```\n",
        "2\n",
        "```\n",
        "\n",
        "**Solution:**"
      ]
    },
    {
      "cell_type": "code",
      "metadata": {
        "id": "SEOfF02YfTGC",
        "colab_type": "code",
        "colab": {
          "base_uri": "https://localhost:8080/",
          "height": 34
        },
        "outputId": "2fa2f9b5-1f1f-4b4a-a951-d70822f64406"
      },
      "source": [
        "# set mimumum to very small negative number e.g., -1e-100\n",
        "nums = [42, 19, 23, 41, 3, 8, 81, 27, 2, 743, 821, 3, 5]\n",
        "def find_min(your_list):\n",
        "  min = 100000\n",
        "  for n in your_list:\n",
        "    if n < min:\n",
        "      min = n\n",
        "  return min\n",
        "print(find_min(nums))\n"
      ],
      "execution_count": 20,
      "outputs": [
        {
          "output_type": "stream",
          "text": [
            "-27\n"
          ],
          "name": "stdout"
        }
      ]
    },
    {
      "cell_type": "markdown",
      "metadata": {
        "id": "KZjJmTozltbK",
        "colab_type": "text"
      },
      "source": [
        "\n",
        "\n",
        "---\n",
        "\n"
      ]
    },
    {
      "cell_type": "markdown",
      "metadata": {
        "id": "ERUwTxhWfU6i",
        "colab_type": "text"
      },
      "source": [
        "## Problem 3 (harder):\n",
        "\n",
        "Given two lists, return a list of all elements that are common (without duplicates) between the two. \n",
        "\n",
        "**Input:**\n",
        "\n",
        "```\n",
        "a = [3, 5, 7, 10, 14, 18]\n",
        "b = [6, 3, 10, 19, 7, 4, 3, 20, 3]\n",
        "```\n",
        "\n",
        "**Expected Output:**\n",
        "```\n",
        "[3, 7, 10]\n",
        "```\n",
        "\n",
        "**Solution:**"
      ]
    },
    {
      "cell_type": "code",
      "metadata": {
        "id": "jL83qDV9hcy0",
        "colab_type": "code",
        "colab": {
          "base_uri": "https://localhost:8080/",
          "height": 34
        },
        "outputId": "22dd15a4-07c2-4eae-aa09-e08097430213"
      },
      "source": [
        "a = [3, 5, 7, 10, 14, 18]\n",
        "b = [6, 3, 10, 19, 7, 4, 3, 20, 3]\n",
        "# compare elements of one list against elements of other.\n",
        "ab = []\n",
        "for a_item in a:\n",
        "  for b_item in b:\n",
        "    if a_item == b_item:\n",
        "      ab.append(a_item)\n",
        "      break\n",
        "print(ab)"
      ],
      "execution_count": 26,
      "outputs": [
        {
          "output_type": "stream",
          "text": [
            "[3, 7, 10]\n"
          ],
          "name": "stdout"
        }
      ]
    },
    {
      "cell_type": "markdown",
      "metadata": {
        "id": "JRRhSg0Qlznv",
        "colab_type": "text"
      },
      "source": [
        "\n",
        "\n",
        "---\n",
        "\n"
      ]
    },
    {
      "cell_type": "markdown",
      "metadata": {
        "id": "SfZuhVazhz9g",
        "colab_type": "text"
      },
      "source": [
        "## Problem 4 (harder):\n",
        "For any given a list of characters, check if its a palindrome or not.\n",
        "\n",
        "> Palindrome: A palindrome is a word, number, phrase, or other sequence of characters which reads the same backward as forward, such as _madam_, _racecar_.\n",
        "\n",
        "**Input:**\n",
        "\n",
        "```\n",
        "s1 = ['c', 'a', 'a', 'c']\n",
        "s2 = ['r', 'e', 'd', 'i', 'v', 'i', 'd', 'e', 'r']\n",
        "s3 = ['p', 'a', 'l', 'i', 'n', 'd', 'r', 'o', 'm', 'e']\n",
        "```\n",
        "\n",
        "**Expected Output:**\n",
        "\n",
        "```\n",
        "list 1 is Palindrome\n",
        "list 2 is Palindrome\n",
        "list 3 is not Palindrome\n",
        "```\n",
        "\n",
        "**Solution:**"
      ]
    },
    {
      "cell_type": "code",
      "metadata": {
        "id": "8vkcn6nehh4Z",
        "colab_type": "code",
        "colab": {}
      },
      "source": [
        "# check both ends of list and compare\n",
        "# then move to middle of list from both ends and compare elements\n",
        "# either a while or for loop can work here"
      ],
      "execution_count": null,
      "outputs": []
    },
    {
      "cell_type": "markdown",
      "metadata": {
        "id": "c1mHBZ93mFNl",
        "colab_type": "text"
      },
      "source": [
        "\n",
        "\n",
        "---\n",
        "\n"
      ]
    },
    {
      "cell_type": "markdown",
      "metadata": {
        "id": "z_83kP37mGtU",
        "colab_type": "text"
      },
      "source": [
        "## Problem 5(hard):\n",
        "Write a program that returns `True` if two lists were combined, they have elements that can form a consecutive sequence of integers.\n",
        "\n",
        "A consecutive sequence is a sequence without any gaps. ie `1, 2, 3, 4, 5` is consecutive sequence. `1, 3, 4, 5` is not (because `2` is missing). \n",
        "\n",
        "> Additional Info:\n",
        "> - The input list will always have unique values (no duplicates).\n",
        "> - The input can be sorted or unsorted.\n",
        "\n",
        "**Input 1:**\n",
        "\n",
        "```\n",
        "list1 = [1, 3, 5]\n",
        "list2 = [2, 4]\n",
        "```\n",
        "\n",
        "**Expected Output:**\n",
        "```\n",
        "True\n",
        "```\n",
        "\n",
        "**Input 2:**\n",
        "\n",
        "```\n",
        "list1 = [5, 4, 10]\n",
        "list2 = [2, 1]\n",
        "```\n",
        "\n",
        "**Expected Output:**\n",
        "\n",
        "False, because  3, 6, 7, 8, 9 missing\n",
        "```\n",
        "False\n",
        "```\n",
        "\n",
        "**Input 3:**\n",
        "\n",
        "```\n",
        "list1 = [3, 7, 2, 4, 10]\n",
        "list2 = [5, 6]\n",
        "```\n",
        "\n",
        "**Expected Output:**\n",
        "\n",
        "False, because 8 and 9 are missing\n",
        "```\n",
        "False\n",
        "```\n",
        "\n",
        "\n",
        "\n",
        "\n"
      ]
    },
    {
      "cell_type": "code",
      "metadata": {
        "id": "VrD3VOxPphuK",
        "colab_type": "code",
        "colab": {}
      },
      "source": [
        "# combine both lists\n",
        "# start with smallest number by searching for it or even sortin the list\n",
        "# then look for all consecutive numbers\n",
        "# if you reach end stop and return true\n",
        "# otherwise return false\n",
        "# while loop can work after combining both lists"
      ],
      "execution_count": null,
      "outputs": []
    },
    {
      "cell_type": "markdown",
      "metadata": {
        "id": "5VzlmFGRL2cc",
        "colab_type": "text"
      },
      "source": [
        "---\n",
        "\n",
        "# Sets\n"
      ]
    },
    {
      "cell_type": "markdown",
      "metadata": {
        "id": "gDIg42eoL90D",
        "colab_type": "text"
      },
      "source": [
        "## Problem 1 (easy):\n",
        "You are given two sets, _**A**_ and _**B**_. Write a program that finds out whether _**A**_ is a subset of _**B**_.\n",
        "\n",
        "If _**A**_ is a subset, return `True`, else return `False`\n",
        "\n",
        "**Input**\n",
        "\n",
        "```\n",
        "A = {4, 2, 1, 5, 7}\n",
        "B = {3, 1, 5, 7, 4, 2, 10, 8}\n",
        "```\n",
        "\n",
        "**Expected Output**\n",
        "```\n",
        "True\n",
        "```\n",
        "\n",
        "**Solution:**\n"
      ]
    },
    {
      "cell_type": "code",
      "metadata": {
        "id": "9TP7f80_cM1F",
        "colab_type": "code",
        "colab": {}
      },
      "source": [
        "# use methods of sets as discussed in slides and text.\n",
        "# or use resources on sets as listed way above."
      ],
      "execution_count": null,
      "outputs": []
    },
    {
      "cell_type": "markdown",
      "metadata": {
        "id": "9nqaF3cBbjIG",
        "colab_type": "text"
      },
      "source": [
        "---\n",
        "## Problem 2 (easy): \n",
        "\n",
        "Given a list, check if it has duplicates.\n",
        "\n",
        "**Input:**\n",
        "\n",
        "```\n",
        "b = [6, 3, 10, 19, 7, 4, 3, 20, 3]\n",
        "```\n",
        "\n",
        "**Expected Output:**\n",
        "```\n",
        "True\n",
        "```\n",
        "\n",
        "**Solution:**\n",
        "\n"
      ]
    },
    {
      "cell_type": "code",
      "metadata": {
        "id": "VX_29J8ucKXb",
        "colab_type": "code",
        "colab": {}
      },
      "source": [
        "# create a set of list b and check its length. \n",
        "# If the list originally had duplicates\n",
        "# the set operation will remove them (reducing the list's own length)."
      ],
      "execution_count": null,
      "outputs": []
    },
    {
      "cell_type": "markdown",
      "metadata": {
        "id": "BUgkcVMZYU4l",
        "colab_type": "text"
      },
      "source": [
        "---\n",
        "## Problem 3 (harder):\n",
        "\n",
        "You are given 2 lists of **_disjoint_** and **_closed_** intervals in sorted order.  Now some definitions:\n",
        "\n",
        "1.   a **_closed_** interval `[a, b]` where `a <= b` denotes a set of integers `x` such that `a <= x <= b`.\n",
        "2.   a **_disjointed_** means, within any given list, the intervals do not overlap. \n",
        "\n",
        "Please note that these intervals (or sets of integers) can overlap across the two given lists. \n",
        "\n",
        "Your objective is to find those overlaps. \n",
        "\n",
        "**Input:**\n",
        "```\n",
        "A = [[0,2], [5,10], [13, 23], [24,25]\n",
        "B = [[1,5], [8,12], [15,24], [25,26]]\n",
        "```\n",
        "\n",
        "**Expected Output:**\n",
        "```\n",
        "[[1,2], [5,5], [8,10], [15,23], [24,24], [25,25]]\n",
        "```\n",
        "\n",
        "**Solution:**"
      ]
    },
    {
      "cell_type": "code",
      "metadata": {
        "id": "MiYtEBobbgGV",
        "colab_type": "code",
        "colab": {}
      },
      "source": [
        "# for every list, recognize that there is another list. \n",
        "# convert each of the inside list to a set in each list\n",
        "# find intersection between each pair across the two lists\n",
        "# collect results in another list"
      ],
      "execution_count": null,
      "outputs": []
    },
    {
      "cell_type": "markdown",
      "metadata": {
        "id": "i6vdiO0mU0eR",
        "colab_type": "text"
      },
      "source": [
        "---\n",
        "## Problem 4 (harder):\n",
        "The set `S` originally contained numbers from `1` to `n`, where `n` is the length of `nums`. But due to some data error, one number in the set got duplicated to another number in the set. This resulted in the repetition of one number and a loss of another number. Note that the size of the set (cardinality) remains the same.\n",
        "\n",
        "Given the erroneous list, can you find the duplicated number and the number it ended up replacing?\n",
        "\n",
        "**Input:**\n",
        "```\n",
        "s = {1, 2, 3, 4, 5}\n",
        "nums = [1, 2, 3, 3, 4]\n",
        "```\n",
        "**Expected Output:**\n",
        "\n",
        "```\n",
        "3 5\n",
        "```\n",
        "**Explanation**: The first number that you return is the number that got duplicated. In this case it was `3`. Now there will be two '3's and hence displacing the last number in the set. The number that it replaced was `5`.\n",
        "\n",
        "**Solution:**\n"
      ]
    },
    {
      "cell_type": "code",
      "metadata": {
        "id": "0WlNDYfVUzkr",
        "colab_type": "code",
        "colab": {}
      },
      "source": [
        "# convert list nums into a another set nums\n",
        "# find disjoint or s-nums and return the element in s that is missing in nums\n",
        "# to find the dupolicated number use a version of Problem 3 of Lists."
      ],
      "execution_count": null,
      "outputs": []
    },
    {
      "cell_type": "markdown",
      "metadata": {
        "id": "6jwH1_L7SAYi",
        "colab_type": "text"
      },
      "source": [
        "---\n",
        "## Problem 5 (hard): \n",
        "(Extension of Problem 4)\n",
        "\n",
        "Given a unordered list containing numbers repeating exactly _**K**_ times and one unique number, find that unique number.\n",
        "\n",
        "For example: for K = 2, and for the given list below\n",
        "```\n",
        "list1 = [8, 3, 8, 4, 5, 5, 4]\n",
        "```\n",
        "`8`, `4`, and `5` repeat exactly `K = 2` times, but `3` is unique. So `3` is the answer.\n",
        "\n",
        "**Input:**\n",
        "```\n",
        "K = 5\n",
        "list1 = [1, 2, 3, 6, 5, 4, 4, 2, 5, 3, 6, 1, 6, 5, 3, 2, 4, 1, 2, 5, 1, 4, 3, 6, 8, 4, 3, 1, 5, 6, 2]\n",
        "```\n",
        "\n",
        "**Expected Output:**\n",
        "```\n",
        "8\n",
        "```\n",
        "\n",
        "> Hint: How can you leverage the fact that duplicate numbers always repeat exactly K times ?\n",
        "\n",
        "**Solution:**"
      ]
    },
    {
      "cell_type": "code",
      "metadata": {
        "id": "r7TSIG0eL7Mi",
        "colab_type": "code",
        "colab": {}
      },
      "source": [
        "# K * SUM(SET(LIST1)) - SUM(LIST1) = K-1*UNIQUE_NUMBER\n",
        "# SO UNIQUE_NUMBER = (K * SUM(SET(LIST1)) - SUM(LIST1)) / K-1\n",
        "# first find sum of elements in list1 (like problem 1) \n",
        "# then convert list1 to a set \n",
        "# use the inbuilt method for sequences(incl. sets) \"sum\" \n",
        "# compute the unique_number as listed above"
      ],
      "execution_count": null,
      "outputs": []
    },
    {
      "cell_type": "markdown",
      "metadata": {
        "id": "O5viiMOEcg8J",
        "colab_type": "text"
      },
      "source": [
        "# Tuples"
      ]
    },
    {
      "cell_type": "markdown",
      "metadata": {
        "id": "ksonxd4Uimwt",
        "colab_type": "text"
      },
      "source": [
        "## Problem 1 (harder):\n",
        "Write a program to replace the last value of each tuple in the list of tuples.\n",
        "\n",
        "**Input:**\n",
        "```\n",
        " n = 5\n",
        " l = [(10, 20, 40), (40, 50, 60), (70, 80, 90)]\n",
        " ```\n",
        "**Expected Output:**\n",
        "```\n",
        "l = [(10, 20, 5), (40, 50, 5), (70, 80, 5)]\n",
        "```\n",
        "\n",
        "> Remember: Tuples are immutable. So how do you change the contents of a tuple ?\n",
        "\n",
        "**Solution:**"
      ]
    },
    {
      "cell_type": "code",
      "metadata": {
        "id": "AsGXWewFjnL3",
        "colab_type": "code",
        "colab": {}
      },
      "source": [
        "# get each tuple t from the larger list\n",
        "# unpack using  a, b, c = t\n",
        "# replace c with n (=5)\n",
        "# now create a new list with the new tuples\n",
        "# use a for loop"
      ],
      "execution_count": null,
      "outputs": []
    },
    {
      "cell_type": "markdown",
      "metadata": {
        "id": "sYALomg3jpuU",
        "colab_type": "text"
      },
      "source": [
        "## Problem 2 (easy):\n",
        "\n",
        "Write a program to find the tuple by searching for `n` in a given list.\n",
        "\n",
        "**Input:**\n",
        "```\n",
        "n = 15.10\n",
        "l = [('item1', 18.20), ('item2', 15.10), ('item3', 24.5)]\n",
        "```\n",
        "\n",
        "**Expected Output:**\n",
        "```\n",
        "('item2', 15.10)\n",
        "```\n",
        "\n",
        "**Solution:**"
      ]
    },
    {
      "cell_type": "code",
      "metadata": {
        "id": "Bpx7A_uZkMWM",
        "colab_type": "code",
        "colab": {}
      },
      "source": [
        "# a simple for loop over the list `l` \n",
        "# check if the second element matches n\n",
        "# if it matches return that tuple."
      ],
      "execution_count": null,
      "outputs": []
    },
    {
      "cell_type": "markdown",
      "metadata": {
        "id": "UNea-QOLkNv_",
        "colab_type": "text"
      },
      "source": [
        "## Problem 3 (harder):\n",
        "Write a program to reverse a tuple\n",
        "\n",
        "**Input:**\n",
        "\n",
        "```\n",
        "tup = (3, 2, 1, 5, 10)\n",
        "```\n",
        "\n",
        "**Output:**\n",
        "```\n",
        "tup = (10, 5, 1, 2, 3)\n",
        "```\n",
        "\n",
        "**Solution:**"
      ]
    },
    {
      "cell_type": "code",
      "metadata": {
        "id": "Lx_ukilPkqdZ",
        "colab_type": "code",
        "colab": {}
      },
      "source": [
        "# unpack into a list\n",
        "# reversing elements of list using \"\"::-1\" in the slides\n",
        "# convert the list into a tuple again"
      ],
      "execution_count": null,
      "outputs": []
    },
    {
      "cell_type": "markdown",
      "metadata": {
        "id": "qvImDIYqksTE",
        "colab_type": "text"
      },
      "source": [
        "## Problem 4 (harder):\n",
        "\n",
        "Given a list of integers, and a number, find all good triplets.\n",
        "\n",
        "A triplet `(l[i], l[j], l[k])` is **good** if the following conditions are true:\n",
        "\n",
        "- `0 <= i < j < k <= len(l)`\n",
        "- `|l[i] - l[j]| <= n`\n",
        "- `|l[j] - l[k]| <= n`\n",
        "- `|l[i] - l[k]| <= n` \n",
        "\n",
        "where `|x|` denotes the absolute value of `x`.\n",
        "\n",
        "Return a tuple of all the **good** triples.\n",
        "\n",
        "Input:\n",
        "\n",
        "```\n",
        "n = 2\n",
        "l = [3, 0, 1, 1, 9, 7]\n",
        "```\n",
        "\n",
        "Expected Output:\n",
        "\n",
        "```\n",
        "[(3, 1, 1), (0, 1, 1)]\n",
        "```\n"
      ]
    },
    {
      "cell_type": "code",
      "metadata": {
        "id": "_WijvuT3oEYp",
        "colab_type": "code",
        "colab": {}
      },
      "source": [
        "# use 3 nested for loops with indices i, j, k\n",
        "# access within each loop the elements of list list[i], list[j],list[k]\n",
        "# using if-then-elseif-else statements check the triplet conditions\n",
        "# indentify the good i,j,k combinations and form tuples\n",
        "# add them to a list to return"
      ],
      "execution_count": null,
      "outputs": []
    },
    {
      "cell_type": "markdown",
      "metadata": {
        "id": "IR4aXcBSpZB2",
        "colab_type": "text"
      },
      "source": [
        "## Problem 5 (harder):\n",
        "Given a list `nums` of `n` integers, are there elements `a, b, c` in `nums` such that `a + b + c = 0`? Find all unique triplets in the list which gives the sum of zero.\n",
        "\n",
        "Notice that the solution set must not contain duplicate triplets.\n",
        "\n",
        "**Input:**\n",
        "```\n",
        "nums = [-1, 0, 1, 2, -1, -4]\n",
        "```\n",
        "\n",
        "**Expected Output:**\n",
        "```\n",
        "[(-1, 0, 1), (-1, -1, 2)]\n",
        "```\n",
        "\n",
        "\n",
        "**Solution:**"
      ]
    },
    {
      "cell_type": "code",
      "metadata": {
        "id": "FEZytI2DqKsl",
        "colab_type": "code",
        "colab": {}
      },
      "source": [
        "# same as problem 4 and use i,j,k for loops\n",
        "# check the condition list[i]+list[j]+list[k]=0 and retain them\n",
        "# form tuples and add them to a list\n",
        "# to check duplicates you will need to use sets"
      ],
      "execution_count": null,
      "outputs": []
    },
    {
      "cell_type": "markdown",
      "metadata": {
        "id": "wraXtFPprRxi",
        "colab_type": "text"
      },
      "source": [
        "# Dictionaries"
      ]
    },
    {
      "cell_type": "markdown",
      "metadata": {
        "id": "L4Ri7If6rWa4",
        "colab_type": "text"
      },
      "source": [
        "## Problem 1 (easy):\n",
        "\n",
        "Convert the two lists into a dictionary.\n",
        "\n",
        "**Input:**\n",
        "```\n",
        "keys = ['Ten', 'Twenty', 'Thirty']\n",
        "values = [10, 20, 30]\n",
        "```\n",
        "**Expected Output:**\n",
        "\n",
        "```\n",
        "d = {'Ten': 10, 'Twenty': 20, 'Thirty': 30}\n",
        "```\n",
        "\n",
        "**Solution:**\n"
      ]
    },
    {
      "cell_type": "code",
      "metadata": {
        "id": "TDwb9dVmsBPh",
        "colab_type": "code",
        "colab": {}
      },
      "source": [
        "# you can use zip to create key-value tuple pairs\n",
        "# create an empty dictionary\n",
        "# use for loop to create a fill the dictionary with values"
      ],
      "execution_count": null,
      "outputs": []
    },
    {
      "cell_type": "markdown",
      "metadata": {
        "id": "1OTzAUZdsCBG",
        "colab_type": "text"
      },
      "source": [
        "## Problem 2 (easy):\n",
        "\n",
        "Merge the two python dictionaries into one\n",
        "\n",
        "\n",
        "**Input:**\n",
        "```\n",
        "dict1 = {'Ten': 10, 'Twenty': 20, 'Thirty': 30}\n",
        "dict2 = {'Thirty': 30, 'Fourty': 40, 'Fifty': 50}\n",
        "```\n",
        "\n",
        "**Expected Output:**\n",
        "```\n",
        "d = {'Ten': 10, 'Twenty': 20, 'Thirty': 30, 'Fourty': 40, 'Fifty': 50}\n",
        "```\n",
        "\n",
        "**Solution:** "
      ]
    },
    {
      "cell_type": "code",
      "metadata": {
        "id": "emID-TC3sU1l",
        "colab_type": "code",
        "colab": {}
      },
      "source": [
        "# use update as discussed in class and slides"
      ],
      "execution_count": null,
      "outputs": []
    },
    {
      "cell_type": "markdown",
      "metadata": {
        "id": "ftfrZK7huFvt",
        "colab_type": "text"
      },
      "source": [
        "## Problem 3 (harder):\n",
        "Given two strings `s` and `t`, determine if they are ***isomorphic***.\n",
        "\n",
        "Two strings are ***isomorphic*** if the characters in `s` can be replaced to get `t`, with no collision. A collision occurs when two elememts in `s`  map to an element in `t`.\n",
        "\n",
        "Essentially, each character in `s` must have a valid mapping to characters in `t`.\n",
        "\n",
        "### For example, \n",
        "- `egg -> add`; one has a mapping `e -> a`, and `g -> d`.\n",
        "\n",
        "- Another example, `boys -> girl`; you has `b -> g`, `o -> i`, `y -> r`, `s -> l`.\n",
        "\n",
        "- However, `ball -> cats` is NOT isomorphic. `l -> t` and `l -> s` is not allowed; the same character (`l`) cannot map to two different characters (`t` and `s`).\n",
        "\n",
        "- `step -> book` is also NOT isomorphic; `t -> o`, `e -> o` is also not allowed; two different characters (`t` and `e`) cannot map to the same character (`o`).\n",
        "\n",
        "\n",
        "> **Note:** All occurrences of a character must be replaced with another character while preserving the order of characters. No two characters may map to the same character but a character may map to itself.\n",
        "\n",
        "> **Hint:** *We can do this by creating a dictionary of the mapping. `d[s[i]] = t[i]`. If you run into a collision (if the key already existed but the value are not the same) then report false.*\n",
        "\n",
        "**Input 1:**\n",
        "\n",
        "```\n",
        "s = \"egg\"\n",
        "t = \"add\"\n",
        "```\n",
        "\n",
        "**Expected Output:**\n",
        "```\n",
        "True\n",
        "```\n",
        "Explanation: `e->a, g->d`\n",
        "\n",
        "**Input 2:**\n",
        "```\n",
        "s = \"book\"\n",
        "t = \"step\"\n",
        "```\n",
        "**Expected Output:**\n",
        "```\n",
        "False\n",
        "```\n",
        "Explanation: `o -> t` and `o -> e` which is not allowed.\n",
        "\n",
        "**Solution:**\n"
      ]
    },
    {
      "cell_type": "code",
      "metadata": {
        "id": "q55z7KPiwjse",
        "colab_type": "code",
        "colab": {}
      },
      "source": [
        "# for every character in both the string (starting from the first)\n",
        "# add key-value pairs to a dictionary, as long as the following conditions are satisfied\n",
        "# 1. the key doesnt already exist, \n",
        "# 2. if the key exists, then make sure the value matches.\n",
        "# After the full dictionary is created, make sure that all the values are unique \n",
        "#(no duplicates). Essentially, check for collisons."
      ],
      "execution_count": null,
      "outputs": []
    },
    {
      "cell_type": "markdown",
      "metadata": {
        "id": "IJxNjmYMsVWf",
        "colab_type": "text"
      },
      "source": [
        "## Problem 4 (easy):\n",
        "\n",
        "Write a function `histogram()` that takes a string and builds a frequency listing of the characters contained in it. Represent the frequency listing as a Python dictionary and print the in sorted order on 'key'.\n",
        "\n",
        "Input:\n",
        "```\n",
        "s = \"Yellowwooddoor\"\n",
        "```\n",
        "Output:\n",
        "```\n",
        "{'o': 5, 'l': 2, 'w': 2, 'd': 2, 'Y': 1, 'e': 1, 'r': 1}\n",
        "```"
      ]
    },
    {
      "cell_type": "code",
      "metadata": {
        "id": "I0rSPgPZtDFD",
        "colab_type": "code",
        "colab": {}
      },
      "source": [
        "# collect all characters from string\n",
        "# count them\n",
        "# create the dictionary\n",
        "# enter the keys as letters and numbers as values. \n",
        "# you have a histogram or frequency table."
      ],
      "execution_count": null,
      "outputs": []
    },
    {
      "cell_type": "markdown",
      "metadata": {
        "id": "caye9FVewkRp",
        "colab_type": "text"
      },
      "source": [
        "## Problem 5 (easy):\n",
        "Given a List of words, return the words that can be typed using letters of alphabet on only one row's of American QWERTY keyboard like the image below.\n",
        "\n",
        "![image](https://upload.wikimedia.org/wikipedia/commons/thumb/d/da/KB_United_States.svg/400px-KB_United_States.svg.png)\n",
        "\n",
        "**Input:**\n",
        "```\n",
        "[\"Hello\", \"Alaska\", \"Dad\", \"Peace\"]\n",
        "```\n",
        "**Expected Output:**\n",
        "```\n",
        "[\"Alaska\", \"Dad\"]\n",
        "```\n",
        "\n",
        "**Solution:**\n"
      ]
    },
    {
      "cell_type": "code",
      "metadata": {
        "id": "WS633lIF3PNx",
        "colab_type": "code",
        "colab": {}
      },
      "source": [
        "# hand craft the dict\n",
        "# enter for each row the letter as key and row as value (1:0, Q:1,A:2, ...).\n",
        "# for strings in input - extract characters and check presence in dict\n"
      ],
      "execution_count": null,
      "outputs": []
    }
  ]
}