{
  "nbformat": 4,
  "nbformat_minor": 0,
  "metadata": {
    "colab": {
      "name": "Homework-2.ipynb",
      "provenance": [],
      "collapsed_sections": [],
      "toc_visible": true,
      "include_colab_link": true
    },
    "kernelspec": {
      "name": "python3",
      "display_name": "Python 3"
    }
  },
  "cells": [
    {
      "cell_type": "markdown",
      "metadata": {
        "id": "view-in-github",
        "colab_type": "text"
      },
      "source": [
        "<a href=\"https://colab.research.google.com/github/hafmous/HelloWorld/blob/master/Homework_2.ipynb\" target=\"_parent\"><img src=\"https://colab.research.google.com/assets/colab-badge.svg\" alt=\"Open In Colab\"/></a>"
      ]
    },
    {
      "cell_type": "markdown",
      "metadata": {
        "id": "k2w44VvVUGMk",
        "colab_type": "text"
      },
      "source": [
        "![osu logo](https://github.com/chaitanya2334/jupyter-tutorial/blob/master/images/osu-32px-horiz.png?raw=1)\n",
        "\n",
        "\n",
        "---\n",
        "\n",
        "\n",
        "# Homework 2. A Sorting Zoo\n",
        "## Due September 17, 11:59 PM.\n",
        "Please follow these instructions to proceed and submit the answers.\n",
        "\n",
        "- Please save the Jupyter notebook from Colab as a private copy.\n",
        "- Name the file - GRADTDA5621-Homework2-FirstName-LastName.ipynb.\n",
        "- Work on the homework and attempt all sections.\n",
        "- Use Piazza to discuss all parts of the homework.\n",
        "-  *Homework is due Thursday, September 17,  at 11:59 AM.*\n",
        "- Use Carmen to submit.\n",
        "        \n",
        "> ### _Objective of this tutorial:_\n",
        "> * Get familiar with Python\n",
        "> * Understand how to solve problems by algorithms\n",
        "> * Learn how to use abstract data types"
      ]
    },
    {
      "cell_type": "markdown",
      "metadata": {
        "id": "fV1Iz7WCRzON",
        "colab_type": "text"
      },
      "source": [
        "\n",
        "Sorting a list of items into ascending or descending order can help either a human or a computer find items on that list quickly, perhaps using an algorithm like binary search. Most Programming languages have built-in sorting methods. It works on arrays of numbers, or even on arrays of strings:\n",
        "```\n",
        "animals = [\"gnu\", \"zebra\", \"antelope\", \"aardvark\", \"yak\", \"iguana\"]\n",
        "sorted(animals)\n",
        "```\n",
        "Try that on **Colab**. Cut and paste could have its perils given \"Unicode\" characters.\n",
        "\n",
        "Even though Python has several built-in sorting methods, sorting is a great example of how there may be many ways to think about the same problem, some perhaps better than others. Understanding sorting is a traditional first step towards gaining some mastery of algorithms and computer science.\n",
        "\n",
        "Please also peruse this material at - https://realpython.com/sorting-algorithms-python/#pythons-built-in-sorting-algorithm\n",
        "\n",
        "## A. Bubble Sort\n",
        "Bubble Sort is one of the simplest sorting algorithms where we repeatedly swap adjacent elements if they are in the *incorrect* order. As the name suggests, think of a really large air bubble in the water trying to make its way to the surface. We already saw this material in class material. \n",
        "\n",
        "**Pseudo code**\n",
        "```\n",
        "bubble_sort (A)\n",
        "1  N = Length(A)\n",
        "2  for i = 1 to N\n",
        "3     for j = 0 to N - 1\n",
        "4         if A[j]>A[j + 1]\n",
        "5            swap(A[j], A[j + 1])\n",
        "```\n",
        "### A.1 Subproblem\n",
        "Before building the full bubble sort procedure, we must first implement the swap() function as you see in line 5. We already saw this function a few times in class material. The swap function is expected to swap the values of the given array elements. Please complete the code. You can replace the swap (A[j], A[j+1]) with the code that includes variable temp. Or you can use a function swap as shown below. Either way is good.\n"
      ]
    },
    {
      "cell_type": "code",
      "metadata": {
        "id": "Bo1mYEY5R_j_",
        "colab_type": "code",
        "colab": {}
      },
      "source": [
        "def swap(a, b):\n",
        "  # code here\n",
        "  temp = a\n",
        "  a = b\n",
        "  b = temp\n",
        "  # use return\n",
        "  return a, b"
      ],
      "execution_count": 41,
      "outputs": []
    },
    {
      "cell_type": "markdown",
      "metadata": {
        "id": "EO-1y9iOSTg2",
        "colab_type": "text"
      },
      "source": [
        "### A.2 Full Bubble Sort\n",
        "Here, make use of the swap function implemented above to build the bubble sort procedure.\n",
        "\n"
      ]
    },
    {
      "cell_type": "code",
      "metadata": {
        "id": "VPr9nsmzSWKb",
        "colab_type": "code",
        "colab": {}
      },
      "source": [
        "def bubble_sort(A):\n",
        "  # code here\n",
        "  for j in range(len(A) - 1):\n",
        "    swap_chckr = False\n",
        "    for i in range(len(A) - 1):\n",
        "      if A[i] > A[i+1]:\n",
        "        swap = A[i]\n",
        "        A[i] = A[i+1]\n",
        "        A[i+1] = swap\n",
        "        swap_chckr = True\n",
        "    if swap_chckr == False:\n",
        "        break\n",
        "  return A"
      ],
      "execution_count": 42,
      "outputs": []
    },
    {
      "cell_type": "code",
      "metadata": {
        "id": "G2zXLz_bT7eD",
        "colab_type": "code",
        "colab": {
          "base_uri": "https://localhost:8080/",
          "height": 34
        },
        "outputId": "9905a967-4356-4557-8a9b-5ee7733aad2d"
      },
      "source": [
        "A = [4, 1, 19, 34, 13, 48, 123, 94]\n",
        "bubble_sort(A)"
      ],
      "execution_count": 43,
      "outputs": [
        {
          "output_type": "execute_result",
          "data": {
            "text/plain": [
              "[1, 4, 13, 19, 34, 48, 94, 123]"
            ]
          },
          "metadata": {
            "tags": []
          },
          "execution_count": 43
        }
      ]
    },
    {
      "cell_type": "markdown",
      "metadata": {
        "id": "-BAqTWHXSWc1",
        "colab_type": "text"
      },
      "source": [
        "## B. Insertion Sort \n",
        "Insertion sort is the sorting mechanism where the sorted array is built using one item at a time. Array elements are compared with each other sequentially from the far left end and then arranged simultaneously in some particular order. An analogy is  arranging a deck of cards. The card arrangement works on the principle of inserting an element at its rightful position, hence the name Insertion Sort.\n",
        "\n",
        "The essential step requires the comparison of the element in question with its adjacent elements. And if every comparison reveals that the element in question can be inserted at a particular position, then space is created for it by shifting the other elements one position to the right and inserting the element at a suitable position.\n",
        "The above procedure is repeated until all the elements in the array are at their apt position.\n",
        "\n",
        "**Pseudo code**\n",
        "```\n",
        "insertion_sort (A)\n",
        "1  for j = 1 to length[A]\n",
        "2       key = A[j]\n",
        "4        i = j - 1\n",
        "5        while i >= 0 and A[i] > key\n",
        "6           do A[i + 1] = A[i]\n",
        "7              i = i - 1\n",
        "8        A[i + 1] = key\n",
        "```\n",
        "\n"
      ]
    },
    {
      "cell_type": "code",
      "metadata": {
        "id": "G2-pGOm2SZF-",
        "colab_type": "code",
        "colab": {}
      },
      "source": [
        "def insertion_sort(A):\n",
        "  # code here\n",
        "  for j in range(1, len(A)):\n",
        "    key = A[j]\n",
        "    i = j -1\n",
        "    while i >= 0 and A[i] > key:\n",
        "      A[i + 1] = A[i]\n",
        "      i -= 1\n",
        "      A[i + 1] = key\n",
        "\n",
        "  return A"
      ],
      "execution_count": 44,
      "outputs": []
    },
    {
      "cell_type": "code",
      "metadata": {
        "id": "3qxSb2GrT4MR",
        "colab_type": "code",
        "colab": {
          "base_uri": "https://localhost:8080/",
          "height": 34
        },
        "outputId": "e0936b5c-ccbc-4655-d278-f71fb7c3fce9"
      },
      "source": [
        "B = [4, 1, 19, 34, 13, 48, 123, 94]\n",
        "insertion_sort(B)"
      ],
      "execution_count": 45,
      "outputs": [
        {
          "output_type": "execute_result",
          "data": {
            "text/plain": [
              "[1, 4, 13, 19, 34, 48, 94, 123]"
            ]
          },
          "metadata": {
            "tags": []
          },
          "execution_count": 45
        }
      ]
    },
    {
      "cell_type": "markdown",
      "metadata": {
        "id": "R69lxE1SSZV6",
        "colab_type": "text"
      },
      "source": [
        "## C. Selection Sort \n",
        "The selection sort is a simple comparison-based sorting algorithm. \n",
        "\n",
        "The idea behind this algorithm is pretty simple. We divide the array into two parts: sorted and unsorted. The left part is a sorted subarray and the right part is an unsorted subarray. Initially, the sorted subarray is empty and the unsorted array is the complete given array.\n",
        "We perform the steps given below until the unsorted subarray becomes empty:\n",
        "- pick the minimum element from the unsorted subarray.\n",
        "- swap it with the leftmost element of the unsorted subarray.\n",
        "\n",
        "Now the leftmost element of the unsorted subarray becomes a part (rightmost) of the sorted subarray and will not be a part of the unsorted subarray. You keep *selecting* the minimum element.\n",
        "\n",
        "Pseudo code (it is not Python)\n",
        "```\n",
        "selection_sort (A)\n",
        "1  n = length(A)\n",
        "2  for i = 1 to n - 1 do\n",
        "3      min_index = find_min_index(A, i+1, n)\n",
        "4      swap(A[i], A[min_index])\n",
        "```\n",
        "### C.1 subproblem\n",
        "Before implementing the full selection sort, implement the `find_min_index` method to support the `find_min_index(A, i + 1, n)` method call. This function will find the minimum element in the subarray A[i+1, n] and return its index. This element will then be swapped with the current index `i`."
      ]
    },
    {
      "cell_type": "code",
      "metadata": {
        "id": "3l8TjrlbSbAi",
        "colab_type": "code",
        "colab": {}
      },
      "source": [
        "def find_min_index(A, i, n):\n",
        "  # code here\n",
        "  for i in range(n):\n",
        "    min_index = i\n",
        "    for j in range(i+1, n):\n",
        "      if A[j] < A[min_index]:\n",
        "        min_index = j\n",
        "\n",
        "  return min_index"
      ],
      "execution_count": 46,
      "outputs": []
    },
    {
      "cell_type": "markdown",
      "metadata": {
        "id": "8d2CyI0uSbSU",
        "colab_type": "text"
      },
      "source": [
        "### C.2 Full Selection Sort\n",
        "\n",
        "Now, implement the full selection sort procedure using the pseudo code provided above."
      ]
    },
    {
      "cell_type": "code",
      "metadata": {
        "id": "E4z1ZCUOSmI1",
        "colab_type": "code",
        "colab": {}
      },
      "source": [
        "def selection_sort(A):\n",
        "  # code here\n",
        "  n = len(A)\n",
        "  for i in range(n):\n",
        "    min_index = i\n",
        "    for j in range(i+1, n):\n",
        "      if A[j] < A[min_index]:\n",
        "        min_index = j\n",
        "      swap = A[i]\n",
        "      A[i] = A[min_index]\n",
        "      A[min_index] = swap\n",
        "  return A"
      ],
      "execution_count": 51,
      "outputs": []
    },
    {
      "cell_type": "code",
      "metadata": {
        "id": "CFhvom5CTxuK",
        "colab_type": "code",
        "colab": {
          "base_uri": "https://localhost:8080/",
          "height": 34
        },
        "outputId": "f7bd68c1-ce2f-4dc3-dcea-84018ebb0aff"
      },
      "source": [
        "C = [4, 1, 19, 34, 13, 48, 123, 94]\n",
        "selection_sort(C)"
      ],
      "execution_count": 52,
      "outputs": [
        {
          "output_type": "execute_result",
          "data": {
            "text/plain": [
              "[1, 4, 19, 34, 13, 48, 94, 123]"
            ]
          },
          "metadata": {
            "tags": []
          },
          "execution_count": 52
        }
      ]
    },
    {
      "cell_type": "markdown",
      "metadata": {
        "id": "NmsHgpMjUIst",
        "colab_type": "text"
      },
      "source": [
        "# D. Timing Sorting Algorithms\n",
        "\n",
        "Use this function to time the execution of three sorting algorithms namely Bubble Sort, Insertion Sort, and Selection Sort.  \n"
      ]
    },
    {
      "cell_type": "code",
      "metadata": {
        "id": "rUQavXs9p3Km",
        "colab_type": "code",
        "colab": {}
      },
      "source": [
        "from random import randint\n",
        "from timeit import repeat\n",
        "def run_sorting_algorithm(algorithm, array):\n",
        "    # Set up the context and prepare the call to the specified\n",
        "    # algorithm using the supplied array. Only import the\n",
        "    # algorithm function if it's not the built-in `sorted()`.\n",
        "    setup_code = f\"from __main__ import {algorithm}\" \\\n",
        "        if algorithm != \"sorted\" else \"\"\n",
        "    stmt = f\"{algorithm}({array})\"\n",
        "\n",
        "    # Execute the code ten different times and return the time\n",
        "    # in seconds that each execution took\n",
        "    times = repeat(setup=setup_code, stmt=stmt, repeat=3, number=10)\n",
        "    # Finally, display the name of the algorithm and the\n",
        "    # minimum time it took to run\n",
        "    print(f\"Algorithm: {algorithm}. Minimum execution time: {min(times)}\")"
      ],
      "execution_count": 11,
      "outputs": []
    },
    {
      "cell_type": "markdown",
      "metadata": {
        "id": "NTmM-Uossgc8",
        "colab_type": "text"
      },
      "source": [
        "Now execute the algorithms on generated data of size 10, 100 and 1000 and contained in arrays A10, A100 and A1000 as seen below."
      ]
    },
    {
      "cell_type": "code",
      "metadata": {
        "id": "_2pK5XhSsGvF",
        "colab_type": "code",
        "colab": {
          "base_uri": "https://localhost:8080/",
          "height": 221
        },
        "outputId": "8159c7e5-4bc0-4e24-b8d4-b5c7d99cc768"
      },
      "source": [
        "from random import randrange\n",
        "\n",
        "A10 = [randrange(1000) for i in range(10)]\n",
        "A100 = [randrange(1000) for i in range(100)]\n",
        "A1000 = [randrange(1000) for i in range(1000)]\n",
        "\n",
        "# A. Bubble Sort\n",
        "tBS10=run_sorting_algorithm(\"bubble_sort\", A10)\n",
        "tBS100=run_sorting_algorithm(\"bubble_sort\", A100)\n",
        "tBS1000=run_sorting_algorithm(\"bubble_sort\", A1000)\n",
        "print()\n",
        "# B. Insertion Sort\n",
        "tBS10=run_sorting_algorithm(\"insertion_sort\", A10)\n",
        "tBS100=run_sorting_algorithm(\"insertion_sort\", A100)\n",
        "tBS1000=run_sorting_algorithm(\"insertion_sort\", A1000)\n",
        "print()\n",
        "# C. Selection Sort\n",
        "tBS10=run_sorting_algorithm(\"selection_sort\", A10)\n",
        "tBS100=run_sorting_algorithm(\"selection_sort\", A100)\n",
        "tBS1000=run_sorting_algorithm(\"selection_sort\", A1000)\n",
        "print()"
      ],
      "execution_count": 55,
      "outputs": [
        {
          "output_type": "stream",
          "text": [
            "Algorithm: bubble_sort. Minimum execution time: 9.307199979957659e-05\n",
            "Algorithm: bubble_sort. Minimum execution time: 0.011670053001580527\n",
            "Algorithm: bubble_sort. Minimum execution time: 1.1247598770005425\n",
            "\n",
            "Algorithm: insertion_sort. Minimum execution time: 4.7217999963322654e-05\n",
            "Algorithm: insertion_sort. Minimum execution time: 0.00351097199927608\n",
            "Algorithm: insertion_sort. Minimum execution time: 0.42686242799936736\n",
            "\n",
            "Algorithm: selection_sort. Minimum execution time: 8.399699981964659e-05\n",
            "Algorithm: selection_sort. Minimum execution time: 0.006806332001360715\n",
            "Algorithm: selection_sort. Minimum execution time: 0.6800808389998565\n",
            "\n"
          ],
          "name": "stdout"
        }
      ]
    },
    {
      "cell_type": "markdown",
      "metadata": {
        "id": "R-AcWGcwsz41",
        "colab_type": "text"
      },
      "source": [
        "Finally, tabulate the results by invoking and measuring\n",
        "- `tBS10=run_sorting_algorithm(\"bubble_sort\", A10)`\n",
        "- `tBS100=run_sorting_algorithm(\"bubble_sort\", A100)`\n",
        "- `tBS1000=run_sorting_algorithm(\"bubble_sort\", A1000)`\n",
        "\n",
        "Do the same for the other two algorithms."
      ]
    }
  ]
}